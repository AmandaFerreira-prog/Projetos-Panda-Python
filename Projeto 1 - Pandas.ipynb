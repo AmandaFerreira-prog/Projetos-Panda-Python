{
 "cells": [
  {
   "cell_type": "markdown",
   "metadata": {},
   "source": [
    "## Projeto Estatistica aplicada a Computação \n"
   ]
  },
  {
   "cell_type": "markdown",
   "metadata": {},
   "source": [
    "- Em primeiro lugar para fazermos a análise dos conjuntos de dados, precisamos primeiro carrega-los como Dataframes:\n",
    "\n",
    "- Observação: Os arquivos foram importados direto do github."
   ]
  },
  {
   "cell_type": "code",
   "execution_count": 3,
   "metadata": {},
   "outputs": [],
   "source": [
    "import pandas as pd\n",
    "\n",
    "df_2020=pd.read_csv('https://raw.githubusercontent.com/progamanda-n1/Dados-Datatran/main/datatran2020.csv',sep=';',encoding='latin1')\n",
    "df_2019=pd.read_csv('https://raw.githubusercontent.com/progamanda-n1/Dados-Datatran/main/datatran2019.csv',sep=';',encoding='latin1')"
   ]
  },
  {
   "cell_type": "markdown",
   "metadata": {},
   "source": [
    "###### Começando a explorar os conjuntos de Dados:"
   ]
  },
  {
   "cell_type": "markdown",
   "metadata": {},
   "source": [
    "> 1) Acidentes que ocorreram em cada ano:\n",
    "\n",
    "*Para analisar, foi criado uma variável onde possui o total de acidentes em cada ano, e para isso, foi necessário apenas usar a função len() em 'df_ANO.index' que possui uma lista com todos os índices, assim a função len() traz o tamaho total dessa lista que é a quantidade de acidentes em cada ano."
   ]
  },
  {
   "cell_type": "markdown",
   "metadata": {},
   "source": [
    " - 2019: "
   ]
  },
  {
   "cell_type": "code",
   "execution_count": 4,
   "metadata": {},
   "outputs": [
    {
     "data": {
      "text/plain": [
       "67446"
      ]
     },
     "execution_count": 4,
     "metadata": {},
     "output_type": "execute_result"
    }
   ],
   "source": [
    "total1= len(df_2019.index)\n",
    "total1"
   ]
  },
  {
   "cell_type": "markdown",
   "metadata": {},
   "source": [
    "- 2020:"
   ]
  },
  {
   "cell_type": "code",
   "execution_count": 5,
   "metadata": {},
   "outputs": [
    {
     "data": {
      "text/plain": [
       "63447"
      ]
     },
     "execution_count": 5,
     "metadata": {},
     "output_type": "execute_result"
    }
   ],
   "source": [
    "total2= len(df_2020.index)\n",
    "total2"
   ]
  },
  {
   "cell_type": "markdown",
   "metadata": {},
   "source": [
    "- Total de acidentes em 2019 e  em 2020:"
   ]
  },
  {
   "cell_type": "code",
   "execution_count": 6,
   "metadata": {},
   "outputs": [
    {
     "data": {
      "text/plain": [
       "(67446, 63447)"
      ]
     },
     "execution_count": 6,
     "metadata": {},
     "output_type": "execute_result"
    }
   ],
   "source": [
    "total1,    total2"
   ]
  },
  {
   "cell_type": "markdown",
   "metadata": {},
   "source": [
    "> 2) Quantidade de variáveis  de cada conjunto de dados:\n",
    "\n",
    "*Para analisar, foi criado uma variável onde possui o total de variaveis em cada ano, e para isso, foi necessário apenas usar a função len() em 'df_ANO.columns' que possui uma lista com todos as colunas, assim a função len() traz o tamaho total dessa lista que é a quantidade de variaveis do conjunto de dados em cada ano.\n"
   ]
  },
  {
   "cell_type": "markdown",
   "metadata": {},
   "source": [
    "- 2019:"
   ]
  },
  {
   "cell_type": "code",
   "execution_count": 7,
   "metadata": {},
   "outputs": [
    {
     "data": {
      "text/plain": [
       "30"
      ]
     },
     "execution_count": 7,
     "metadata": {},
     "output_type": "execute_result"
    }
   ],
   "source": [
    "variaveis_2019=len(df_2019.columns)\n",
    "variaveis_2019"
   ]
  },
  {
   "cell_type": "markdown",
   "metadata": {},
   "source": [
    "- 2020:"
   ]
  },
  {
   "cell_type": "code",
   "execution_count": 8,
   "metadata": {},
   "outputs": [],
   "source": [
    "variaveis_2020=len(df_2020.columns)"
   ]
  },
  {
   "cell_type": "markdown",
   "metadata": {},
   "source": [
    "- Total de variaveis de 2019 e 2020:"
   ]
  },
  {
   "cell_type": "code",
   "execution_count": 9,
   "metadata": {},
   "outputs": [
    {
     "name": "stdout",
     "output_type": "stream",
     "text": [
      "\n",
      "    2019:30 variaveis\n",
      "    2020:30 variaveis\n"
     ]
    }
   ],
   "source": [
    "print(f'''\n",
    "    2019:{variaveis_2019} variaveis\n",
    "    2020:{variaveis_2020} variaveis''')"
   ]
  },
  {
   "cell_type": "markdown",
   "metadata": {},
   "source": [
    ">3) As cinco cidades brasileiras onde mais ocorreram acidentes em rodovias federais:\n",
    "\n",
    "\n",
    "*Para fazer esta análise, apenas foi feito a filtragem da coluna correspondente aos municipios e utilizei a função value_counts(), para fazer uma contagem de quantas vezes cada valor da coluna se repetiu no Dataframe.*"
   ]
  },
  {
   "cell_type": "markdown",
   "metadata": {},
   "source": [
    "- 2019:"
   ]
  },
  {
   "cell_type": "code",
   "execution_count": 10,
   "metadata": {},
   "outputs": [
    {
     "data": {
      "text/plain": [
       "CURITIBA     1094\n",
       "BRASILIA     1090\n",
       "SAO JOSE      819\n",
       "GUARULHOS     717\n",
       "SERRA         633\n",
       "Name: municipio, dtype: int64"
      ]
     },
     "execution_count": 10,
     "metadata": {},
     "output_type": "execute_result"
    }
   ],
   "source": [
    "cidades_2019=df_2019['municipio'].value_counts().head()\n",
    "cidades_2019"
   ]
  },
  {
   "cell_type": "markdown",
   "metadata": {},
   "source": [
    "- 2020:"
   ]
  },
  {
   "cell_type": "code",
   "execution_count": 11,
   "metadata": {},
   "outputs": [
    {
     "data": {
      "text/plain": [
       "BRASILIA     1040\n",
       "CURITIBA      945\n",
       "GUARULHOS     639\n",
       "SAO JOSE      629\n",
       "PALHOCA       593\n",
       "Name: municipio, dtype: int64"
      ]
     },
     "execution_count": 11,
     "metadata": {},
     "output_type": "execute_result"
    }
   ],
   "source": [
    "cidades_2020=df_2020['municipio'].value_counts().head()\n",
    "cidades_2020"
   ]
  },
  {
   "cell_type": "markdown",
   "metadata": {},
   "source": [
    ">4) Quantidade de acidentes com feridos graves que aconteceram na Paraíba em 2019:\n",
    "\n",
    "*Para analisar esse dado, foi necessario fazer uma filtragem com operação lógica,para filtrar exatamente os dados que seriam necessarios para analise específica,nesse caso queriamos apenas ver da coluna 'uf' do dataframe de 2019 o estado da paraiba e da coluna de 'feridos_graves' apenas os acidentes que tiveram feridos graves, após isso para sabermos a quantidade de acidentes foi necessário apenas ver a quantidade de linhas dessa parte do dataframe*"
   ]
  },
  {
   "cell_type": "code",
   "execution_count": 12,
   "metadata": {},
   "outputs": [
    {
     "name": "stdout",
     "output_type": "stream",
     "text": [
      "Quantidade de acidentes com feridos graves na Paraiba em 2019:  414 acidentes.\n"
     ]
    }
   ],
   "source": [
    "feridos_pb = df_2019[(df_2019.uf=='PB') & (df_2019.feridos_graves>0)]\n",
    "print(f'Quantidade de acidentes com feridos graves na Paraiba em 2019:  {len(feridos_pb.index)} acidentes.')\n",
    "\n"
   ]
  },
  {
   "cell_type": "markdown",
   "metadata": {},
   "source": [
    "> - Ranking de acidentes por estado para ambos os anos:\n",
    "\n",
    "*Para fazer o ranking, foi necessário usar o value_counts() na coluna 'uf' dos dois dataframes para fazer uma contagem de cada item dessas colunas, automaticamente fazendo um ranking de cada ano com os estados que apareceram mais vezes nessa coluna,após isso apenas foi feito a soma dos rankings de cada ano, criando um único ranking para ambos os anos, e depois para salvar em csv, so foi feito o uso do to_csv().*"
   ]
  },
  {
   "cell_type": "code",
   "execution_count": 13,
   "metadata": {},
   "outputs": [],
   "source": [
    "ranking=pd.DataFrame((df_2020.uf.value_counts() + df_2019.uf.value_counts()).sort_values(ascending=False))\n",
    "ranking.to_csv('ranking_acidentes_estado.csv')"
   ]
  },
  {
   "cell_type": "markdown",
   "metadata": {},
   "source": [
    "> - Acidentes por dia da semana para ambos os anos:\n",
    "\n",
    "*Para fazer esta análise, foi necessário usar o value_counts() na coluna 'dia_semana' dos dois dataframes para fazer uma contagem de cada item dessas colunas,mostrando os dias da semana que possuem uma ocorrência maior de acidentes, após isso apenas foi feito a soma dos dados de cada ano, criando um dado mais preciso sobre ambos os anos, e depois para salvar em csv, so foi feito o uso do to_csv().*"
   ]
  },
  {
   "cell_type": "code",
   "execution_count": 14,
   "metadata": {},
   "outputs": [],
   "source": [
    "dias=(pd.DataFrame(df_2020.dia_semana.value_counts() + df_2019.dia_semana.value_counts()))\n",
    "dias.to_csv('acidentespordia2020&2019.csv')"
   ]
  },
  {
   "cell_type": "markdown",
   "metadata": {},
   "source": [
    "> - A causa mais frequente e a mais rara de acidentes registrados nos dois anos?\n",
    "\n",
    "*Para analisar esses dados,foi criado dois dataframes cada um com o ranking das causas de acidentes de ambos os anos, os rankings foram criados a partir do uso da função value_counts() e de sort_values(ascending=False),para organizar de forma descrescente(da causa mais frequente para a mais rara), após isso usando a função concat(), os dois dataframes foram unidos,e logo apos as colunas foram renomeadas para específicar o ano, e em seguida o dataframe foi salvo em csv."
   ]
  },
  {
   "cell_type": "code",
   "execution_count": 15,
   "metadata": {},
   "outputs": [],
   "source": [
    "causas_19=pd.DataFrame((df_2019.causa_acidente.value_counts()).sort_values(ascending=False))\n",
    "causas_20=((df_2020.causa_acidente.value_counts()).sort_values(ascending=False)).to_frame()\n",
    "causas_total=pd.concat([causas_19,causas_20],axis=1)\n",
    "causas_total.columns=['2019','2020']\n",
    "causas_total.to_csv('causa_frequente&rara_2anos.csv')"
   ]
  },
  {
   "cell_type": "markdown",
   "metadata": {},
   "source": [
    "######  A proporção de pessoas ilesas e de feridos graves por mês em cada um dos anos:"
   ]
  },
  {
   "cell_type": "markdown",
   "metadata": {},
   "source": [
    ">2019:\n",
    "\n",
    "*Para realizar essa questão:\n",
    "\n",
    "*1) Foi criado um novo dataframe para cada ano ('novodf_ANO'), que é um dataframe onde tem apenas as colunas necessárias para fazer a análise, e também o uso do sort_values(),para organizar os dados a parti da data do acidente.*\n",
    "\n",
    "*2)Para analisar os dados de cada mês, foi feito a filtragem do dataframe novo aparti da coluna 'data_inversa' usando o intervalo de datas de cada mês,gerando um dataframe para cada mês.*\n",
    "\n",
    "*3)Aparti disso,foi criado duas variaveis 'graves_MêS' e ilesos_MêS', para fazer a soma das colunas de 'feridos_graves' e 'ilesos' separadamente,com a função sum().*\n",
    "\n",
    "*4) Nova variavel 'tot_MES' que tem o total de pessoas envolvidas em acidentes em todo mês, fazendo a soma das colunas 'feridos_graves','ilesos','ignorados' e 'feridos'.*\n",
    "\n",
    "*5) Fazer apenas a proporção para ilesos e feridos graves,dividindo cada variavel pelo total.*\n",
    "\n",
    "*Todo esse processo foi feita para cada mês.*"
   ]
  },
  {
   "cell_type": "code",
   "execution_count": 16,
   "metadata": {},
   "outputs": [],
   "source": [
    "novodf_2019=df_2019[['data_inversa','feridos_graves','ilesos','ignorados','feridos']].sort_values(by='data_inversa')"
   ]
  },
  {
   "cell_type": "markdown",
   "metadata": {},
   "source": [
    "###### Janeiro: "
   ]
  },
  {
   "cell_type": "code",
   "execution_count": 17,
   "metadata": {},
   "outputs": [
    {
     "name": "stdout",
     "output_type": "stream",
     "text": [
      "Proporção de feridos graves nos acidentes em Janeiro de 2019: 10.465116279069768%,\n",
      "Proporção de ilesos nos acidentes em  Janeiro de 2019: 39.196617336152215%\n"
     ]
    }
   ],
   "source": [
    "janeiro=novodf_2019[novodf_2019['data_inversa']<='2019-01-31']\n",
    "graves_jan=sum(janeiro['feridos_graves'])\n",
    "ilesos_jan=sum(janeiro['ilesos'])\n",
    "tot_jan=sum(janeiro['feridos_graves']+janeiro['ilesos']+janeiro['ignorados']+janeiro['feridos'])\n",
    "prop_graves=(graves_jan/tot_jan)*100\n",
    "prop_ilesos=(ilesos_jan/tot_jan)*100\n",
    "print(f'''Proporção de feridos graves nos acidentes em Janeiro de 2019: {prop_graves}%,\n",
    "Proporção de ilesos nos acidentes em  Janeiro de 2019: {prop_ilesos}%''')"
   ]
  },
  {
   "cell_type": "markdown",
   "metadata": {},
   "source": [
    "###### Fevereiro:"
   ]
  },
  {
   "cell_type": "code",
   "execution_count": 18,
   "metadata": {},
   "outputs": [
    {
     "name": "stdout",
     "output_type": "stream",
     "text": [
      "Proporção de feridos graves nos acidentes em Fevereiro de 2019: 10.49856184084372%,\n",
      "Proporção de ilesos nos acidentes em Fevereiro de 2019: 39.18641282016162%\n"
     ]
    }
   ],
   "source": [
    "fevereiro=novodf_2019.loc[(novodf_2019['data_inversa']<='2019-02-01') & (novodf_2019['data_inversa']<='2019-02-28')]\n",
    "graves_fev=sum(fevereiro['feridos_graves'])\n",
    "ilesos_fev=sum(fevereiro['ilesos'])\n",
    "tot_fev=sum(fevereiro['feridos_graves']+fevereiro['ilesos']+fevereiro['ignorados']+fevereiro['feridos'])\n",
    "prop_graves=(graves_fev/tot_fev)*100\n",
    "prop_ilesos=(ilesos_fev/tot_fev)*100\n",
    "print(f'''Proporção de feridos graves nos acidentes em Fevereiro de 2019: {prop_graves}%,\n",
    "Proporção de ilesos nos acidentes em Fevereiro de 2019: {prop_ilesos}%''')"
   ]
  },
  {
   "cell_type": "markdown",
   "metadata": {},
   "source": [
    "###### Março:"
   ]
  },
  {
   "cell_type": "code",
   "execution_count": 19,
   "metadata": {},
   "outputs": [
    {
     "name": "stdout",
     "output_type": "stream",
     "text": [
      "Proporção de feridos graves nos acidentes em Março de 2019: 10.216673320509564%,\n",
      "Proporção de ilesos nos acidentes em Março de 2019: 39.41857510978841%\n"
     ]
    }
   ],
   "source": [
    "março=novodf_2019.loc[(novodf_2019['data_inversa']<='2019-03-01') & (novodf_2019['data_inversa']<='2019-03-31')]\n",
    "graves_mar=sum(março['feridos_graves'])\n",
    "ilesos_mar=sum(março['ilesos'])\n",
    "tot_mar=sum(março['feridos_graves']+março['ilesos']+março['ignorados']+março['feridos'])\n",
    "prop_graves=(graves_mar/tot_mar)*100\n",
    "prop_ilesos=(ilesos_mar/tot_mar)*100\n",
    "print(f'''Proporção de feridos graves nos acidentes em Março de 2019: {prop_graves}%,\n",
    "Proporção de ilesos nos acidentes em Março de 2019: {prop_ilesos}%''')"
   ]
  },
  {
   "cell_type": "markdown",
   "metadata": {},
   "source": [
    "###### Abril:"
   ]
  },
  {
   "cell_type": "code",
   "execution_count": 20,
   "metadata": {},
   "outputs": [
    {
     "name": "stdout",
     "output_type": "stream",
     "text": [
      "Proporção de feridos graves nos acidentes em Abril de 2019: 10.318216463414634%,\n",
      "Proporção de ilesos nos acidentes em Abril de 2019: 39.56507240853659%\n"
     ]
    }
   ],
   "source": [
    "abril=novodf_2019.loc[(novodf_2019['data_inversa']<='2019-04-01') & (novodf_2019['data_inversa']<='2019-04-30')]\n",
    "graves_abr=sum(abril['feridos_graves'])\n",
    "ilesos_abr=sum(abril['ilesos'])\n",
    "tot_abr=sum(abril['feridos_graves']+abril['ilesos']+abril['ignorados']+abril['feridos'])\n",
    "prop_graves=(graves_abr/tot_abr)*100\n",
    "prop_ilesos=(ilesos_abr/tot_abr)*100\n",
    "print(f'''Proporção de feridos graves nos acidentes em Abril de 2019: {prop_graves}%,\n",
    "Proporção de ilesos nos acidentes em Abril de 2019: {prop_ilesos}%''')"
   ]
  },
  {
   "cell_type": "markdown",
   "metadata": {},
   "source": [
    "###### Maio:"
   ]
  },
  {
   "cell_type": "code",
   "execution_count": 21,
   "metadata": {},
   "outputs": [
    {
     "name": "stdout",
     "output_type": "stream",
     "text": [
      "Proporção de feridos graves nos acidentes em Maio de 2019: 10.232391206819202%,\n",
      "Proporção de ilesos nos acidentes em Maio de 2019: 39.323463436518615%\n"
     ]
    }
   ],
   "source": [
    "maio=novodf_2019.loc[(novodf_2019['data_inversa']<='2019-05-01') & (novodf_2019['data_inversa']<='2019-05-31')]\n",
    "graves_maio=sum(maio['feridos_graves'])\n",
    "ilesos_maio=sum(maio['ilesos'])\n",
    "tot_maio=sum(maio['feridos_graves']+maio['ilesos']+maio['ignorados']+maio['feridos'])\n",
    "prop_graves=(graves_maio/tot_maio)*100\n",
    "prop_ilesos=(ilesos_maio/tot_maio)*100\n",
    "print(f'''Proporção de feridos graves nos acidentes em Maio de 2019: {prop_graves}%,\n",
    "Proporção de ilesos nos acidentes em Maio de 2019: {prop_ilesos}%''')"
   ]
  },
  {
   "cell_type": "markdown",
   "metadata": {},
   "source": [
    "###### Junho:"
   ]
  },
  {
   "cell_type": "code",
   "execution_count": 22,
   "metadata": {},
   "outputs": [
    {
     "name": "stdout",
     "output_type": "stream",
     "text": [
      "Proporção de feridos graves nos acidentes em Junho de 2019: 10.43010752688172%,\n",
      "Proporção de ilesos nos acidentes em Junho de 2019: 39.099641577060936%\n"
     ]
    }
   ],
   "source": [
    "junho=novodf_2019.loc[(novodf_2019['data_inversa']<='2019-06-01') & (novodf_2019['data_inversa']<='2019-06-30')]\n",
    "graves_jun=sum(junho['feridos_graves'])\n",
    "ilesos_jun=sum(junho['ilesos'])\n",
    "tot_jun=sum(junho['feridos_graves']+junho['ilesos']+junho['ignorados']+junho['feridos'])\n",
    "prop_graves=(graves_jun/tot_jun)*100\n",
    "prop_ilesos=(ilesos_jun/tot_jun)*100\n",
    "print(f'''Proporção de feridos graves nos acidentes em Junho de 2019: {prop_graves}%,\n",
    "Proporção de ilesos nos acidentes em Junho de 2019: {prop_ilesos}%''')"
   ]
  },
  {
   "cell_type": "markdown",
   "metadata": {},
   "source": [
    "###### Julho:"
   ]
  },
  {
   "cell_type": "code",
   "execution_count": 23,
   "metadata": {},
   "outputs": [
    {
     "name": "stdout",
     "output_type": "stream",
     "text": [
      "Proporção de feridos graves nos acidentes em Julho de 2019: 10.533432973915518%,\n",
      "Proporção de ilesos nos acidentes em Julho de 2019: 39.133838653428704%\n"
     ]
    }
   ],
   "source": [
    "julho=novodf_2019.loc[(novodf_2019['data_inversa']<='2019-07-01') & (novodf_2019['data_inversa']<='2019-07-31')]\n",
    "graves_jul=sum(julho['feridos_graves'])\n",
    "ilesos_jul=sum(julho['ilesos'])\n",
    "tot_jul=sum(julho['feridos_graves']+julho['ilesos']+julho['ignorados']+julho['feridos'])\n",
    "prop_graves=(graves_jul/tot_jul)*100\n",
    "prop_ilesos=(ilesos_jul/tot_jul)*100\n",
    "print(f'''Proporção de feridos graves nos acidentes em Julho de 2019: {prop_graves}%,\n",
    "Proporção de ilesos nos acidentes em Julho de 2019: {prop_ilesos}%''')"
   ]
  },
  {
   "cell_type": "markdown",
   "metadata": {},
   "source": [
    "###### Agosto:"
   ]
  },
  {
   "cell_type": "code",
   "execution_count": 24,
   "metadata": {},
   "outputs": [
    {
     "name": "stdout",
     "output_type": "stream",
     "text": [
      "Proporção de feridos graves nos acidentes em Agosto de 2019: 10.58246683578827%,\n",
      "Proporção de ilesos nos acidentes em Agosto de 2019: 39.284675777842395%\n"
     ]
    }
   ],
   "source": [
    "agosto=novodf_2019.loc[(novodf_2019['data_inversa']<='2019-08-01') & (novodf_2019['data_inversa']<='2019-08-31')]\n",
    "graves_ago=sum(agosto['feridos_graves'])\n",
    "ilesos_ago=sum(agosto['ilesos'])\n",
    "tot_ago=sum(agosto['feridos_graves']+agosto['ilesos']+agosto['ignorados']+agosto['feridos'])\n",
    "prop_graves=(graves_ago/tot_ago)*100\n",
    "prop_ilesos=(ilesos_ago/tot_ago)*100\n",
    "print(f'''Proporção de feridos graves nos acidentes em Agosto de 2019: {prop_graves}%,\n",
    "Proporção de ilesos nos acidentes em Agosto de 2019: {prop_ilesos}%''')"
   ]
  },
  {
   "cell_type": "markdown",
   "metadata": {},
   "source": [
    "###### Setembro:"
   ]
  },
  {
   "cell_type": "code",
   "execution_count": 25,
   "metadata": {},
   "outputs": [
    {
     "name": "stdout",
     "output_type": "stream",
     "text": [
      "Proporção de feridos graves nos acidentes em Setembro de 2019: 10.622492943099093%,\n",
      "Proporção de ilesos nos acidentes em Setembro de 2019: 39.126255167049734%\n"
     ]
    }
   ],
   "source": [
    "setembro=novodf_2019.loc[(novodf_2019['data_inversa']<='2019-09-01') & (novodf_2019['data_inversa']<='2019-09-30')]\n",
    "graves_set=sum(setembro['feridos_graves'])\n",
    "ilesos_set=sum(setembro['ilesos'])\n",
    "tot_set=sum(setembro['feridos_graves']+setembro['ilesos']+setembro['ignorados']+setembro['feridos'])\n",
    "prop_graves=(graves_set/tot_set)*100\n",
    "prop_ilesos=(ilesos_set/tot_set)*100\n",
    "print(f'''Proporção de feridos graves nos acidentes em Setembro de 2019: {prop_graves}%,\n",
    "Proporção de ilesos nos acidentes em Setembro de 2019: {prop_ilesos}%''')"
   ]
  },
  {
   "cell_type": "markdown",
   "metadata": {},
   "source": [
    "###### Outubro:"
   ]
  },
  {
   "cell_type": "code",
   "execution_count": 26,
   "metadata": {},
   "outputs": [
    {
     "name": "stdout",
     "output_type": "stream",
     "text": [
      "Proporção de feridos graves nos acidentes em Outubro de 2019: 10.565186729387694%,\n",
      "Proporção de ilesos nos acidentes em Outubro de 2019: 39.1352867782109%\n"
     ]
    }
   ],
   "source": [
    "outubro=novodf_2019.loc[(novodf_2019['data_inversa']<='2019-10-01') & (novodf_2019['data_inversa']<='2019-10-31')]\n",
    "graves_out=sum(outubro['feridos_graves'])\n",
    "ilesos_out=sum(outubro['ilesos'])\n",
    "tot_out=sum(outubro['feridos_graves']+outubro['ilesos']+outubro['ignorados']+outubro['feridos'])\n",
    "prop_graves=(graves_out/tot_out)*100\n",
    "prop_ilesos=(ilesos_out/tot_out)*100\n",
    "print(f'''Proporção de feridos graves nos acidentes em Outubro de 2019: {prop_graves}%,\n",
    "Proporção de ilesos nos acidentes em Outubro de 2019: {prop_ilesos}%''')"
   ]
  },
  {
   "cell_type": "markdown",
   "metadata": {},
   "source": [
    "###### Novembro:"
   ]
  },
  {
   "cell_type": "code",
   "execution_count": 27,
   "metadata": {},
   "outputs": [
    {
     "name": "stdout",
     "output_type": "stream",
     "text": [
      "Proporção de feridos graves nos acidentes em Novembro de 2019: 10.60661701021999%,\n",
      "Proporção de ilesos nos acidentes em Novembro de 2019: 39.06807552399099%\n"
     ]
    }
   ],
   "source": [
    "novembro=novodf_2019.loc[(novodf_2019['data_inversa']<='2019-11-01') & (novodf_2019['data_inversa']<='2019-11-30')]\n",
    "graves_nov=sum(novembro['feridos_graves'])\n",
    "ilesos_nov=sum(novembro['ilesos'])\n",
    "tot_nov=sum(novembro['feridos_graves']+novembro['ilesos']+novembro['ignorados']+novembro['feridos'])\n",
    "prop_graves=(graves_nov/tot_nov)*100\n",
    "prop_ilesos=(ilesos_nov/tot_nov)*100\n",
    "print(f'''Proporção de feridos graves nos acidentes em Novembro de 2019: {prop_graves}%,\n",
    "Proporção de ilesos nos acidentes em Novembro de 2019: {prop_ilesos}%''')"
   ]
  },
  {
   "cell_type": "markdown",
   "metadata": {},
   "source": [
    "###### Dezembro:"
   ]
  },
  {
   "cell_type": "code",
   "execution_count": 28,
   "metadata": {},
   "outputs": [
    {
     "name": "stdout",
     "output_type": "stream",
     "text": [
      "Proporção de feridos graves nos acidentes em Dezembro de 2019: 10.587356675306419%,\n",
      "Proporção de ilesos nos acidentes em Dezembro de 2019: 39.12803358834198%\n"
     ]
    }
   ],
   "source": [
    "dezembro=novodf_2019.loc[(novodf_2019['data_inversa']<='2019-12-01') & (novodf_2019['data_inversa']<='2019-12-31')]\n",
    "graves_dez=sum(dezembro['feridos_graves'])\n",
    "ilesos_dez=sum(dezembro['ilesos'])\n",
    "tot_dez=sum(dezembro['feridos_graves']+dezembro['ilesos']+dezembro['ignorados']+dezembro['feridos'])\n",
    "prop_graves=(graves_dez/tot_dez)*100\n",
    "prop_ilesos=(ilesos_dez/tot_dez)*100\n",
    "print(f'''Proporção de feridos graves nos acidentes em Dezembro de 2019: {prop_graves}%,\n",
    "Proporção de ilesos nos acidentes em Dezembro de 2019: {prop_ilesos}%''')"
   ]
  },
  {
   "cell_type": "markdown",
   "metadata": {},
   "source": [
    ">2020:"
   ]
  },
  {
   "cell_type": "code",
   "execution_count": 29,
   "metadata": {},
   "outputs": [],
   "source": [
    "novodf_2020=df_2020[['data_inversa','feridos_graves','ilesos','ignorados','feridos']].sort_values(by='data_inversa')"
   ]
  },
  {
   "cell_type": "markdown",
   "metadata": {},
   "source": [
    "###### Janeiro:"
   ]
  },
  {
   "cell_type": "code",
   "execution_count": 30,
   "metadata": {},
   "outputs": [
    {
     "name": "stdout",
     "output_type": "stream",
     "text": [
      "Proporção de feridos graves nos acidentes em Janeiro de 2020: 9.965726337991036%,\n",
      "Proporção de ilesos nos acidentes em Janeiro de 2020: 38.538096493540735%\n"
     ]
    }
   ],
   "source": [
    "jan=novodf_2020[novodf_2020['data_inversa']<='2020-01-31']\n",
    "graves_jan=sum(jan['feridos_graves'])\n",
    "ilesos_jan=sum(jan['ilesos'])\n",
    "tot_jan=sum(jan['feridos_graves']+jan['ilesos']+jan['ignorados']+jan['feridos'])\n",
    "prop_graves=(graves_jan/tot_jan)*100\n",
    "prop_ilesos=(ilesos_jan/tot_jan)*100\n",
    "print(f'''Proporção de feridos graves nos acidentes em Janeiro de 2020: {prop_graves}%,\n",
    "Proporção de ilesos nos acidentes em Janeiro de 2020: {prop_ilesos}%''')"
   ]
  },
  {
   "cell_type": "markdown",
   "metadata": {},
   "source": [
    "###### Fevereiro:"
   ]
  },
  {
   "cell_type": "code",
   "execution_count": 31,
   "metadata": {},
   "outputs": [
    {
     "name": "stdout",
     "output_type": "stream",
     "text": [
      "Proporção de feridos graves nos acidentes em Fevereiro de 2020: 9.946612431676623%,\n",
      "Proporção de ilesos nos acidentes em Fevereiro de 2020: 38.572518113639255%\n"
     ]
    }
   ],
   "source": [
    "fevereiro=novodf_2020.loc[(novodf_2020['data_inversa']<='2020-02-01') & (novodf_2020['data_inversa']<='2020-02-28')]\n",
    "graves_fev=sum(fevereiro['feridos_graves'])\n",
    "ilesos_fev=sum(fevereiro['ilesos'])\n",
    "tot_fev=sum(fevereiro['feridos_graves']+fevereiro['ilesos']+fevereiro['ignorados']+fevereiro['feridos'])\n",
    "prop_graves=(graves_fev/tot_fev)*100\n",
    "prop_ilesos=(ilesos_fev/tot_fev)*100\n",
    "print(f'''Proporção de feridos graves nos acidentes em Fevereiro de 2020: {prop_graves}%,\n",
    "Proporção de ilesos nos acidentes em Fevereiro de 2020: {prop_ilesos}%''')"
   ]
  },
  {
   "cell_type": "markdown",
   "metadata": {},
   "source": [
    "###### Março:"
   ]
  },
  {
   "cell_type": "code",
   "execution_count": 32,
   "metadata": {},
   "outputs": [
    {
     "name": "stdout",
     "output_type": "stream",
     "text": [
      "Proporção de feridos graves nos acidentes em Março de 2020: 10.090733204349856%,\n",
      "Proporção de ilesos nos acidentes em Março de 2020: 38.64500633798119%\n"
     ]
    }
   ],
   "source": [
    "março=novodf_2020.loc[(novodf_2020['data_inversa']<='2020-03-01') & (novodf_2020['data_inversa']<='2020-03-31')]\n",
    "graves_mar=sum(março['feridos_graves'])\n",
    "ilesos_mar=sum(março['ilesos'])\n",
    "tot_mar=sum(março['feridos_graves']+março['ilesos']+março['ignorados']+março['feridos'])\n",
    "prop_graves=(graves_mar/tot_mar)*100\n",
    "prop_ilesos=(ilesos_mar/tot_mar)*100\n",
    "print(f'''Proporção de feridos graves nos acidentes em Março de 2020: {prop_graves}%,\n",
    "Proporção de ilesos nos acidentes em Março de 2020: {prop_ilesos}%''')"
   ]
  },
  {
   "cell_type": "markdown",
   "metadata": {},
   "source": [
    "###### Abril:"
   ]
  },
  {
   "cell_type": "code",
   "execution_count": 33,
   "metadata": {},
   "outputs": [
    {
     "name": "stdout",
     "output_type": "stream",
     "text": [
      "Proporção de feridos graves nos acidentes em Abril de 2020: 10.223147296577762%,\n",
      "Proporção de ilesos nos acidentes em Abril de 2020: 38.247253013214575%\n"
     ]
    }
   ],
   "source": [
    "abril=novodf_2020.loc[(novodf_2020['data_inversa']<='2020-04-01') & (novodf_2020['data_inversa']<='2020-04-30')]\n",
    "graves_abr=sum(abril['feridos_graves'])\n",
    "ilesos_abr=sum(abril['ilesos'])\n",
    "tot_abr=sum(abril['feridos_graves']+abril['ilesos']+abril['ignorados']+abril['feridos'])\n",
    "prop_graves=(graves_abr/tot_abr)*100\n",
    "prop_ilesos=(ilesos_abr/tot_abr)*100\n",
    "print(f'''Proporção de feridos graves nos acidentes em Abril de 2020: {prop_graves}%,\n",
    "Proporção de ilesos nos acidentes em Abril de 2020: {prop_ilesos}%''')"
   ]
  },
  {
   "cell_type": "markdown",
   "metadata": {},
   "source": [
    "###### Junho:"
   ]
  },
  {
   "cell_type": "code",
   "execution_count": 34,
   "metadata": {},
   "outputs": [
    {
     "name": "stdout",
     "output_type": "stream",
     "text": [
      "Proporção de feridos graves nos acidentes em Junho de 2020: 10.435038212815991%,\n",
      "Proporção de ilesos nos acidentes em Junho de 2020: 37.603697171598405%\n"
     ]
    }
   ],
   "source": [
    "junho=novodf_2020.loc[(novodf_2020['data_inversa']<='2020-06-01') & (novodf_2020['data_inversa']<='2020-06-30')]\n",
    "graves_jun=sum(junho['feridos_graves'])\n",
    "ilesos_jun=sum(junho['ilesos'])\n",
    "tot_jun=sum(junho['feridos_graves']+junho['ilesos']+junho['ignorados']+junho['feridos'])\n",
    "prop_graves=(graves_jun/tot_jun)*100\n",
    "prop_ilesos=(ilesos_jun/tot_jun)*100\n",
    "print(f'''Proporção de feridos graves nos acidentes em Junho de 2020: {prop_graves}%,\n",
    "Proporção de ilesos nos acidentes em Junho de 2020: {prop_ilesos}%''')"
   ]
  },
  {
   "cell_type": "markdown",
   "metadata": {},
   "source": [
    "###### Julho:"
   ]
  },
  {
   "cell_type": "code",
   "execution_count": 35,
   "metadata": {},
   "outputs": [
    {
     "name": "stdout",
     "output_type": "stream",
     "text": [
      "Proporção de feridos graves nos acidentes em Julho de 2020: 10.46367297401666%,\n",
      "Proporção de ilesos nos acidentes em Julho de 2020: 37.87306228278259%\n"
     ]
    }
   ],
   "source": [
    "julho=novodf_2020.loc[(novodf_2020['data_inversa']<='2020-07-01') & (novodf_2020['data_inversa']<='2020-07-31')]\n",
    "graves_jul=sum(julho['feridos_graves'])\n",
    "ilesos_jul=sum(julho['ilesos'])\n",
    "tot_jul=sum(julho['feridos_graves']+julho['ilesos']+julho['ignorados']+julho['feridos'])\n",
    "prop_graves=(graves_jul/tot_jul)*100\n",
    "prop_ilesos=(ilesos_jul/tot_jul)*100\n",
    "print(f'''Proporção de feridos graves nos acidentes em Julho de 2020: {prop_graves}%,\n",
    "Proporção de ilesos nos acidentes em Julho de 2020: {prop_ilesos}%''')"
   ]
  },
  {
   "cell_type": "markdown",
   "metadata": {},
   "source": [
    "###### Agosto:"
   ]
  },
  {
   "cell_type": "code",
   "execution_count": 36,
   "metadata": {},
   "outputs": [
    {
     "name": "stdout",
     "output_type": "stream",
     "text": [
      "Proporção de feridos graves nos acidentes em Agosto de 2020: 10.422005407311625%,\n",
      "Proporção de ilesos nos acidentes em Agosto de 2020: 38.10626542847067%\n"
     ]
    }
   ],
   "source": [
    "agosto=novodf_2020.loc[(novodf_2020['data_inversa']<='2020-08-01') & (novodf_2020['data_inversa']<='2020-08-31')]\n",
    "graves_ago=sum(agosto['feridos_graves'])\n",
    "ilesos_ago=sum(agosto['ilesos'])\n",
    "tot_ago=sum(agosto['feridos_graves']+agosto['ilesos']+agosto['ignorados']+agosto['feridos'])\n",
    "prop_graves=(graves_ago/tot_ago)*100\n",
    "prop_ilesos=(ilesos_ago/tot_ago)*100\n",
    "print(f'''Proporção de feridos graves nos acidentes em Agosto de 2020: {prop_graves}%,\n",
    "Proporção de ilesos nos acidentes em Agosto de 2020: {prop_ilesos}%''')"
   ]
  },
  {
   "cell_type": "markdown",
   "metadata": {},
   "source": [
    "###### Setembro:"
   ]
  },
  {
   "cell_type": "code",
   "execution_count": 37,
   "metadata": {},
   "outputs": [
    {
     "name": "stdout",
     "output_type": "stream",
     "text": [
      "Proporção de feridos graves nos acidentes em Setembro de 2020: 10.48988500636608%,\n",
      "Proporção de ilesos nos acidentes em Setembro de 2020: 38.28641296659324%\n"
     ]
    }
   ],
   "source": [
    "setembro=novodf_2020.loc[(novodf_2020['data_inversa']<='2020-09-01') & (novodf_2020['data_inversa']<='2020-09-30')]\n",
    "graves_set=sum(setembro['feridos_graves'])\n",
    "ilesos_set=sum(setembro['ilesos'])\n",
    "tot_set=sum(setembro['feridos_graves']+setembro['ilesos']+setembro['ignorados']+setembro['feridos'])\n",
    "prop_graves=(graves_set/tot_set)*100\n",
    "prop_ilesos=(ilesos_set/tot_set)*100\n",
    "print(f'''Proporção de feridos graves nos acidentes em Setembro de 2020: {prop_graves}%,\n",
    "Proporção de ilesos nos acidentes em Setembro de 2020: {prop_ilesos}%''')"
   ]
  },
  {
   "cell_type": "markdown",
   "metadata": {},
   "source": [
    "###### Outubro:"
   ]
  },
  {
   "cell_type": "code",
   "execution_count": 38,
   "metadata": {},
   "outputs": [
    {
     "name": "stdout",
     "output_type": "stream",
     "text": [
      "Proporção de feridos graves nos acidentes em Outubro de 2020: 0.10543703900004417%,\n",
      "Proporção de ilesos nos acidentes em Outubro de 2020: 0.3832251225652577%\n"
     ]
    }
   ],
   "source": [
    "outubro=novodf_2020.loc[(novodf_2020['data_inversa']<='2020-10-01') & (novodf_2020['data_inversa']<='2020-10-31')]\n",
    "graves_out=sum(outubro['feridos_graves'])\n",
    "ilesos_out=sum(outubro['ilesos'])\n",
    "tot_out=sum(outubro['feridos_graves']+outubro['ilesos']+outubro['ignorados']+outubro['feridos'])\n",
    "prop_graves=(graves_out/tot_out)\n",
    "prop_ilesos=(ilesos_out/tot_out)\n",
    "print(f'''Proporção de feridos graves nos acidentes em Outubro de 2020: {prop_graves}%,\n",
    "Proporção de ilesos nos acidentes em Outubro de 2020: {prop_ilesos}%''')"
   ]
  },
  {
   "cell_type": "markdown",
   "metadata": {},
   "source": [
    "###### Novembro:"
   ]
  },
  {
   "cell_type": "code",
   "execution_count": 39,
   "metadata": {},
   "outputs": [
    {
     "name": "stdout",
     "output_type": "stream",
     "text": [
      "Proporção de feridos graves nos acidentes em Novembro de 2020: 0.10607023307711382%,\n",
      "Proporção de ilesos nos acidentes em Novembro de 2020: 0.3821596826183982%\n"
     ]
    }
   ],
   "source": [
    "novembro=novodf_2020.loc[(novodf_2020['data_inversa']<='2020-11-01') & (novodf_2020['data_inversa']<='2020-11-30')]\n",
    "graves_nov=sum(novembro['feridos_graves'])\n",
    "ilesos_nov=sum(novembro['ilesos'])\n",
    "tot_nov=sum(novembro['feridos_graves']+novembro['ilesos']+novembro['ignorados']+novembro['feridos'])\n",
    "prop_graves=(graves_nov/tot_nov)\n",
    "prop_ilesos=(ilesos_nov/tot_nov)\n",
    "print(f'''Proporção de feridos graves nos acidentes em Novembro de 2020: {prop_graves}%,\n",
    "Proporção de ilesos nos acidentes em Novembro de 2020: {prop_ilesos}%''')"
   ]
  },
  {
   "cell_type": "markdown",
   "metadata": {},
   "source": [
    "###### Dezembro:"
   ]
  },
  {
   "cell_type": "code",
   "execution_count": 40,
   "metadata": {},
   "outputs": [
    {
     "name": "stdout",
     "output_type": "stream",
     "text": [
      "Proporção de feridos graves nos acidentes em Dezembro de 2020: 0.10644216691068814%,\n",
      "Proporção de ilesos nos acidentes em Dezembro de 2020: 0.38199121522693996%\n"
     ]
    }
   ],
   "source": [
    "dezembro=novodf_2020.loc[(novodf_2020['data_inversa']<='2020-12-01') & (novodf_2020['data_inversa']<='2020-12-31')]\n",
    "graves_dez=sum(dezembro['feridos_graves'])\n",
    "ilesos_dez=sum(dezembro['ilesos'])\n",
    "tot_dez=sum(dezembro['feridos_graves']+dezembro['ilesos']+dezembro['ignorados']+dezembro['feridos'])\n",
    "prop_graves=(graves_dez/tot_dez)\n",
    "prop_ilesos=(ilesos_dez/tot_dez)\n",
    "print(f'''Proporção de feridos graves nos acidentes em Dezembro de 2020: {prop_graves}%,\n",
    "Proporção de ilesos nos acidentes em Dezembro de 2020: {prop_ilesos}%''')"
   ]
  },
  {
   "cell_type": "markdown",
   "metadata": {},
   "source": [
    "######   A pandemia conseguiu diminuir ou não a incidência de acidentes nas rodovias federais? \n",
    "\n",
    "*Para fazer essa analise, foi necessario o uso da função Loc nos dataframes para filtrar os determinados periodos de tempo de cada ano,e esses periodos de tempos foram filtrados usando o loc com filtragem com condições,para específicar corretamente cada período. A filtragem foi feita na coluna 'data_inversa' de cada dataframe. E para saber o total de cada ano foi utilizado a função len()  nas (variaveisnovas.index ) que mostra o total de linhas que corresponde as ocorrências de acidentes.*"
   ]
  },
  {
   "cell_type": "markdown",
   "metadata": {},
   "source": [
    "- Analisando os dois anos no periodo de tempo de março(mês que se começou a diminuir a circulação de pessoas devido ao inicio da pandemia no Brasil em 2020) até dezembro,vemos que a incídencia de acidentes em 2019 foi consideravelmente maior :"
   ]
  },
  {
   "cell_type": "code",
   "execution_count": 41,
   "metadata": {},
   "outputs": [
    {
     "name": "stdout",
     "output_type": "stream",
     "text": [
      "Acidentes de março a dezembro 2019: 54855,\n",
      "Acidentes de março a dezembro 2020: 49777\n"
     ]
    }
   ],
   "source": [
    "periodo1_2019=df_2019.loc[(df_2019['data_inversa']>='2019-03-15')]\n",
    "periodo1_2020=df_2020.loc[(df_2020['data_inversa']>='2020-03-15')]\n",
    "print(f'''Acidentes de março a dezembro 2019: {len(periodo1_2019.index)},\n",
    "Acidentes de março a dezembro 2020: {len(periodo1_2020.index)}''')"
   ]
  },
  {
   "cell_type": "code",
   "execution_count": 42,
   "metadata": {},
   "outputs": [
    {
     "name": "stdout",
     "output_type": "stream",
     "text": [
      "Acidentes de Abril a julho 2019: 14079,\n",
      "Acidentes de Abril a Julho 2020: 11962\n"
     ]
    }
   ],
   "source": [
    "periodo2_2019=df_2019.loc[(df_2019['data_inversa']>='2019-04-30') & (df_2019['data_inversa']<='2019-07-15')]\n",
    "periodo2_2020=df_2020.loc[(df_2020['data_inversa']>='2020-04-30') & (df_2020['data_inversa']<='2020-07-15')]\n",
    "print(f'''Acidentes de Abril a julho 2019: {len(periodo2_2019.index)},\n",
    "Acidentes de Abril a Julho 2020: {len(periodo2_2020.index)}''')"
   ]
  },
  {
   "cell_type": "markdown",
   "metadata": {},
   "source": [
    "- Fazendo uma análise mais específica entre final de abril e meados de julho, (período em que em 2020 foi onde se iniciou a adoção do lockdown pelos estados, lockdown que é o bloqueio total das atividades de uma cidade, ficando a ativa apenas serviços essenciais,é uma versão mais rigorosa do isolamento social), percebemos que sim a pandemia influenciou na diminuição dos acidentes nao só nesse periodo mais rigoroso de isolamento, mas em todo o ano de 2020, houve entre 2019 e 2020 uma considerável redução do número de casos de acidentes."
   ]
  },
  {
   "cell_type": "code",
   "execution_count": null,
   "metadata": {},
   "outputs": [],
   "source": []
  }
 ],
 "metadata": {
  "kernelspec": {
   "display_name": "Python 3",
   "language": "python",
   "name": "python3"
  },
  "language_info": {
   "codemirror_mode": {
    "name": "ipython",
    "version": 3
   },
   "file_extension": ".py",
   "mimetype": "text/x-python",
   "name": "python",
   "nbconvert_exporter": "python",
   "pygments_lexer": "ipython3",
   "version": "3.8.5"
  }
 },
 "nbformat": 4,
 "nbformat_minor": 4
}
